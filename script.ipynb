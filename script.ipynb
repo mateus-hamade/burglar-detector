{
 "cells": [
  {
   "cell_type": "code",
   "execution_count": null,
   "metadata": {},
   "outputs": [],
   "source": [
    "from ultralytics import YOLO\n",
    "\n",
    "model = YOLO('yolov8n.pt')  # Load model\n",
    "\n",
    "trainresults = model.train(\n",
    "    data='./data/data.yaml',\n",
    "    epochs=25,\n",
    "    batch=16,\n",
    "    imgsz=640\n",
    ")  # Train\n",
    "\n",
    "valresults = model.val()\n",
    "\n",
    "print(trainresults, valresults)  # Output training and validation results"
   ]
  }
 ],
 "metadata": {
  "language_info": {
   "name": "python"
  }
 },
 "nbformat": 4,
 "nbformat_minor": 2
}
